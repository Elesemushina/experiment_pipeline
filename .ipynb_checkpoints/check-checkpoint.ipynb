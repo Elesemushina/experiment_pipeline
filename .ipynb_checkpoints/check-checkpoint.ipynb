{
 "cells": [
  {
   "cell_type": "code",
   "execution_count": 2,
   "metadata": {},
   "outputs": [
    {
     "name": "stdout",
     "output_type": "stream",
     "text": [
      "[2023-11-25 12:15:22] - AB Pipeline - INFO - Data loaded\n",
      "[2023-11-25 12:15:23] - AB Pipeline - INFO - Orders Per User\n",
      "[2023-11-25 12:15:25] - AB Pipeline - INFO - Average Order Value\n",
      "[2023-11-25 12:15:27] - AB Pipeline - INFO - Average Revenuer per User\n",
      "[2023-11-25 12:15:27] - AB Pipeline - INFO - 5.665955066680908\n"
     ]
    }
   ],
   "source": [
    "# Скрипт расчета A/B подготовлен командой EXPF специально для лекций по A/B\n",
    "# Курс по A/B-тестированиям expf.ru/ab_course\n",
    "# A/B-платформа по подписке expf.ru/sigma\n",
    "\n",
    "import pandas as pd\n",
    "\n",
    "import config as cfg\n",
    "from metric_builder import _load_yaml_preset\n",
    "from report import build_experiment_report\n",
    "import time\n",
    "\n",
    "logger = cfg.logger\n",
    "start_time = time.time()\n",
    "\n",
    "# скачайте отдельно https://drive.google.com/file/d/1f-HM6v5HQFrQ8Rn8DmWz9G4NF4uTbo4x/view?usp=share_link\n",
    "# df = pd.read_parquet(f'data/parquet/df.parquet')\n",
    "\n",
    "# Мини-версия таблицы с данными по эксперименту, количество строк = 10000\n",
    "df = pd.read_csv(\"data/csv/df_sample.csv\")\n",
    "logger.info(\"Data loaded\")\n",
    "\n",
    "experiment_report = build_experiment_report(\n",
    "    df=df,\n",
    "    metric_config=_load_yaml_preset(preset=\"todo\")\n",
    ")\n",
    "experiment_report.to_csv(f\"experiment_report.csv\")\n",
    "\n",
    "cfg.logger.info(time.time() - start_time)\n"
   ]
  },
  {
   "cell_type": "code",
   "execution_count": 3,
   "metadata": {},
   "outputs": [
    {
     "data": {
      "text/html": [
       "<div>\n",
       "<style scoped>\n",
       "    .dataframe tbody tr th:only-of-type {\n",
       "        vertical-align: middle;\n",
       "    }\n",
       "\n",
       "    .dataframe tbody tr th {\n",
       "        vertical-align: top;\n",
       "    }\n",
       "\n",
       "    .dataframe thead th {\n",
       "        text-align: right;\n",
       "    }\n",
       "</style>\n",
       "<table border=\"1\" class=\"dataframe\">\n",
       "  <thead>\n",
       "    <tr style=\"text-align: right;\">\n",
       "      <th></th>\n",
       "      <th>metric_name</th>\n",
       "      <th>mean_0</th>\n",
       "      <th>mean_1</th>\n",
       "      <th>var_0</th>\n",
       "      <th>var_1</th>\n",
       "      <th>delta</th>\n",
       "      <th>lift</th>\n",
       "      <th>pvalue</th>\n",
       "      <th>statistic</th>\n",
       "    </tr>\n",
       "  </thead>\n",
       "  <tbody>\n",
       "    <tr>\n",
       "      <th>0</th>\n",
       "      <td>Orders Per User</td>\n",
       "      <td>0.019417</td>\n",
       "      <td>0.016534</td>\n",
       "      <td>0.019051</td>\n",
       "      <td>0.016270</td>\n",
       "      <td>-0.002884</td>\n",
       "      <td>-0.148518</td>\n",
       "      <td>5.206621e-01</td>\n",
       "      <td>0.642390</td>\n",
       "    </tr>\n",
       "    <tr>\n",
       "      <th>0</th>\n",
       "      <td>Average Order Value</td>\n",
       "      <td>1804.005885</td>\n",
       "      <td>1599.911443</td>\n",
       "      <td>23676.926449</td>\n",
       "      <td>25849.622681</td>\n",
       "      <td>-204.094442</td>\n",
       "      <td>-0.113134</td>\n",
       "      <td>1.812240e-269</td>\n",
       "      <td>38.391302</td>\n",
       "    </tr>\n",
       "    <tr>\n",
       "      <th>0</th>\n",
       "      <td>Average Revenuer per User</td>\n",
       "      <td>35.029240</td>\n",
       "      <td>26.452356</td>\n",
       "      <td>85678.243854</td>\n",
       "      <td>66817.364501</td>\n",
       "      <td>-8.576885</td>\n",
       "      <td>-0.244849</td>\n",
       "      <td>3.578963e-01</td>\n",
       "      <td>0.919502</td>\n",
       "    </tr>\n",
       "  </tbody>\n",
       "</table>\n",
       "</div>"
      ],
      "text/plain": [
       "                 metric_name       mean_0       mean_1         var_0  \\\n",
       "0            Orders Per User     0.019417     0.016534      0.019051   \n",
       "0        Average Order Value  1804.005885  1599.911443  23676.926449   \n",
       "0  Average Revenuer per User    35.029240    26.452356  85678.243854   \n",
       "\n",
       "          var_1       delta      lift         pvalue  statistic  \n",
       "0      0.016270   -0.002884 -0.148518   5.206621e-01   0.642390  \n",
       "0  25849.622681 -204.094442 -0.113134  1.812240e-269  38.391302  \n",
       "0  66817.364501   -8.576885 -0.244849   3.578963e-01   0.919502  "
      ]
     },
     "execution_count": 3,
     "metadata": {},
     "output_type": "execute_result"
    }
   ],
   "source": [
    "experiment_report"
   ]
  },
  {
   "cell_type": "code",
   "execution_count": 6,
   "metadata": {},
   "outputs": [
    {
     "data": {
      "text/plain": [
       "array([3, 0, 1, 2])"
      ]
     },
     "execution_count": 6,
     "metadata": {},
     "output_type": "execute_result"
    }
   ],
   "source": [
    "df.experiment_variant.unique()"
   ]
  },
  {
   "cell_type": "code",
   "execution_count": 7,
   "metadata": {},
   "outputs": [],
   "source": [
    "import yaml\n",
    "import config\n",
    "import abc\n",
    "import pandas as pd\n",
    "import numpy as np\n",
    "from yaml.loader import SafeLoader\n",
    "from os import listdir\n",
    "\n",
    "\n",
    "def _load_yaml_preset(preset=\"default\"):\n",
    "    preset_path = config.PATH_METRIC_CONFIGS + \"/\" + preset\n",
    "    metrics_to_load = listdir(preset_path)\n",
    "    metrics = []\n",
    "    for metric in metrics_to_load:\n",
    "        with open(preset_path + \"/\" + metric) as f:\n",
    "            metrics.append(yaml.load(f, Loader=SafeLoader))\n",
    "    return metrics"
   ]
  },
  {
   "cell_type": "code",
   "execution_count": 9,
   "metadata": {},
   "outputs": [],
   "source": [
    "metric_config=_load_yaml_preset(preset=\"todo\")"
   ]
  },
  {
   "cell_type": "code",
   "execution_count": 10,
   "metadata": {},
   "outputs": [
    {
     "data": {
      "text/plain": [
       "[{'name': 'Average Revenuer Per User Without Cancelllations',\n",
       "  'type': 'ratio',\n",
       "  'estimator': 't_test',\n",
       "  'level': 'user_pseudo_id',\n",
       "  'numerator': {'aggregation_field': 'revenue', 'aggregation_function': 'sum'},\n",
       "  'numerator_conditions': [{'condition_field': 'pg_status',\n",
       "    'comparison_sign': 'not_equal',\n",
       "    'comparison_value': 'CANCELED'}],\n",
       "  'denominator': {'aggregation_field': 'user_pseudo_id',\n",
       "   'aggregation_function': 'count_distinct'}},\n",
       " {'name': 'Average Order Value',\n",
       "  'type': 'ratio',\n",
       "  'estimator': 't_test',\n",
       "  'level': 'user_pseudo_id',\n",
       "  'numerator': {'aggregation_field': 'order_id',\n",
       "   'aggregation_function': 'count_distinct',\n",
       "   'numerator_conditions': [{'condition_field': 'pg_status',\n",
       "     'comparison_sign': 'not_equal',\n",
       "     'comparison_value': 'CANCELED'}]},\n",
       "  'denominator': {'aggregation_field': 'order_id',\n",
       "   'aggregation_function': 'count_distinct'},\n",
       "  'denominator_conditions': [{'condition_field': 'pg_status',\n",
       "    'comparison_sign': 'equal',\n",
       "    'comparison_value': 'REALIZATION'}]},\n",
       " {'name': 'Canceled Orders per Orders',\n",
       "  'type': 'ratio',\n",
       "  'estimator': 'prop_test',\n",
       "  'level': 'user_pseudo_id',\n",
       "  'numerator': {'aggregation_field': 'order_id',\n",
       "   'aggregation_function': 'count_distinct'},\n",
       "  'numerator_conditions': [{'condition_field': 'pg_status',\n",
       "    'comparison_sign': 'equal',\n",
       "    'comparison_value': 'CANCELED'}],\n",
       "  'denominator': {'aggregation_field': 'order_id',\n",
       "   'aggregation_function': 'count_distinct'}},\n",
       " {'name': 'Average Revenue per Paying User Without Cancelation',\n",
       "  'type': 'ratio',\n",
       "  'estimator': 'mann_whitney',\n",
       "  'level': 'user_pseudo_id',\n",
       "  'numerator': {'aggregation_field': 'revenue', 'aggregation_function': 'sum'},\n",
       "  'numerator_conditions': [{'condition_field': 'pg_status',\n",
       "    'comparison_sign': 'not_equal',\n",
       "    'comparison_value': 'CANCELED'}],\n",
       "  'denominator': {'aggregation_field': 'user_pseudo_id',\n",
       "   'aggregation_function': 'count_distinct'},\n",
       "  'denominator_conditions': [{'condition_field': 'event_name',\n",
       "    'comparison_sign': 'equal',\n",
       "    'comparison_value': 'purchase'}]}]"
      ]
     },
     "execution_count": 10,
     "metadata": {},
     "output_type": "execute_result"
    }
   ],
   "source": [
    "metric_config"
   ]
  },
  {
   "cell_type": "code",
   "execution_count": 11,
   "metadata": {},
   "outputs": [
    {
     "data": {
      "text/plain": [
       "'experiment_variant'"
      ]
     },
     "execution_count": 11,
     "metadata": {},
     "output_type": "execute_result"
    }
   ],
   "source": [
    "config.VARIANT_COL"
   ]
  },
  {
   "cell_type": "code",
   "execution_count": 13,
   "metadata": {},
   "outputs": [
    {
     "name": "stdout",
     "output_type": "stream",
     "text": [
      "{'name': 'Average Revenuer Per User Without Cancelllations', 'type': 'ratio', 'estimator': 't_test', 'level': 'user_pseudo_id', 'numerator': {'aggregation_field': 'revenue', 'aggregation_function': 'sum'}, 'numerator_conditions': [{'condition_field': 'pg_status', 'comparison_sign': 'not_equal', 'comparison_value': 'CANCELED'}], 'denominator': {'aggregation_field': 'user_pseudo_id', 'aggregation_function': 'count_distinct'}}\n"
     ]
    }
   ],
   "source": [
    "n = 0\n",
    "for metric_params in metric_config:\n",
    "    print(metric_params)\n",
    "    n += 1\n",
    "    if n == 1:\n",
    "        break"
   ]
  },
  {
   "cell_type": "code",
   "execution_count": 14,
   "metadata": {},
   "outputs": [
    {
     "data": {
      "text/plain": [
       "{'name': 'Average Revenuer Per User Without Cancelllations',\n",
       " 'type': 'ratio',\n",
       " 'estimator': 't_test',\n",
       " 'level': 'user_pseudo_id',\n",
       " 'numerator': {'aggregation_field': 'revenue', 'aggregation_function': 'sum'},\n",
       " 'numerator_conditions': [{'condition_field': 'pg_status',\n",
       "   'comparison_sign': 'not_equal',\n",
       "   'comparison_value': 'CANCELED'}],\n",
       " 'denominator': {'aggregation_field': 'user_pseudo_id',\n",
       "  'aggregation_function': 'count_distinct'}}"
      ]
     },
     "execution_count": 14,
     "metadata": {},
     "output_type": "execute_result"
    }
   ],
   "source": [
    "metric_params"
   ]
  },
  {
   "cell_type": "code",
   "execution_count": null,
   "metadata": {},
   "outputs": [],
   "source": [
    "metric_parsed = Metric(metric_params)\n",
    "    calculated_metric = CalculateMetric(metric_parsed)(df)\n",
    "    metric_report = build_metric_report(calculated_metric, metric_parsed)\n",
    "    reports.append(metric_report.report)"
   ]
  }
 ],
 "metadata": {
  "kernelspec": {
   "display_name": "Python 3 (ipykernel)",
   "language": "python",
   "name": "python3"
  },
  "language_info": {
   "codemirror_mode": {
    "name": "ipython",
    "version": 3
   },
   "file_extension": ".py",
   "mimetype": "text/x-python",
   "name": "python",
   "nbconvert_exporter": "python",
   "pygments_lexer": "ipython3",
   "version": "3.10.9"
  }
 },
 "nbformat": 4,
 "nbformat_minor": 2
}
