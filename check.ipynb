{
 "cells": [
  {
   "cell_type": "code",
   "execution_count": 1,
   "metadata": {},
   "outputs": [
    {
     "name": "stdout",
     "output_type": "stream",
     "text": [
      "[2023-11-25 21:00:20] - AB Pipeline - INFO - Data loaded\n",
      "[2023-11-25 21:00:22] - AB Pipeline - INFO - Average Revenuer Per User Without Cancelllations\n",
      "[2023-11-25 21:00:23] - AB Pipeline - INFO - Average Order Value\n",
      "[2023-11-25 21:00:24] - AB Pipeline - INFO - Canceled Orders per Orders\n",
      "[2023-11-25 21:00:26] - AB Pipeline - ERROR - The samples x and y must have the same length.\n",
      "[2023-11-25 21:00:26] - AB Pipeline - INFO - Average Revenue per Paying User Without Cancelation\n",
      "[2023-11-25 21:00:26] - AB Pipeline - INFO - 5.67645001411438\n"
     ]
    }
   ],
   "source": [
    "# Скрипт расчета A/B подготовлен командой EXPF специально для лекций по A/B\n",
    "# Курс по A/B-тестированиям expf.ru/ab_course\n",
    "# A/B-платформа по подписке expf.ru/sigma\n",
    "\n",
    "import pandas as pd\n",
    "\n",
    "import config as cfg\n",
    "from metric_builder import _load_yaml_preset\n",
    "from report import build_experiment_report\n",
    "import time\n",
    "\n",
    "logger = cfg.logger\n",
    "start_time = time.time()\n",
    "\n",
    "# скачайте отдельно https://drive.google.com/file/d/1f-HM6v5HQFrQ8Rn8DmWz9G4NF4uTbo4x/view?usp=share_link\n",
    "# df = pd.read_parquet(f'data/parquet/df.parquet')\n",
    "\n",
    "# Мини-версия таблицы с данными по эксперименту, количество строк = 10000\n",
    "df = pd.read_csv(\"data/csv/df_sample.csv\")\n",
    "logger.info(\"Data loaded\")\n",
    "\n",
    "experiment_report = build_experiment_report(\n",
    "    df=df,\n",
    "    metric_config=_load_yaml_preset(preset=\"todo\")\n",
    ")\n",
    "experiment_report.to_csv(f\"experiment_report.csv\")\n",
    "\n",
    "cfg.logger.info(time.time() - start_time)\n"
   ]
  },
  {
   "cell_type": "code",
   "execution_count": 2,
   "metadata": {},
   "outputs": [
    {
     "data": {
      "text/html": [
       "<div>\n",
       "<style scoped>\n",
       "    .dataframe tbody tr th:only-of-type {\n",
       "        vertical-align: middle;\n",
       "    }\n",
       "\n",
       "    .dataframe tbody tr th {\n",
       "        vertical-align: top;\n",
       "    }\n",
       "\n",
       "    .dataframe thead th {\n",
       "        text-align: right;\n",
       "    }\n",
       "</style>\n",
       "<table border=\"1\" class=\"dataframe\">\n",
       "  <thead>\n",
       "    <tr style=\"text-align: right;\">\n",
       "      <th></th>\n",
       "      <th>metric_name</th>\n",
       "      <th>mean_0</th>\n",
       "      <th>mean_1</th>\n",
       "      <th>var_0</th>\n",
       "      <th>var_1</th>\n",
       "      <th>delta</th>\n",
       "      <th>lift</th>\n",
       "      <th>pvalue</th>\n",
       "      <th>statistic</th>\n",
       "    </tr>\n",
       "  </thead>\n",
       "  <tbody>\n",
       "    <tr>\n",
       "      <th>0</th>\n",
       "      <td>Average Revenuer Per User Without Cancelllations</td>\n",
       "      <td>35.02924</td>\n",
       "      <td>26.452356</td>\n",
       "      <td>85678.243854</td>\n",
       "      <td>66817.364501</td>\n",
       "      <td>-8.576885</td>\n",
       "      <td>-0.244849</td>\n",
       "      <td>0.357896</td>\n",
       "      <td>0.919502</td>\n",
       "    </tr>\n",
       "    <tr>\n",
       "      <th>0</th>\n",
       "      <td>Average Order Value</td>\n",
       "      <td>1.00000</td>\n",
       "      <td>1.000000</td>\n",
       "      <td>0.000000</td>\n",
       "      <td>0.000000</td>\n",
       "      <td>0.000000</td>\n",
       "      <td>0.000000</td>\n",
       "      <td>NaN</td>\n",
       "      <td>NaN</td>\n",
       "    </tr>\n",
       "    <tr>\n",
       "      <th>0</th>\n",
       "      <td>Canceled Orders per Orders</td>\n",
       "      <td>1.00000</td>\n",
       "      <td>1.000000</td>\n",
       "      <td>0.000000</td>\n",
       "      <td>0.000000</td>\n",
       "      <td>0.000000</td>\n",
       "      <td>0.000000</td>\n",
       "      <td>0.520526</td>\n",
       "      <td>0.642535</td>\n",
       "    </tr>\n",
       "    <tr>\n",
       "      <th>0</th>\n",
       "      <td>Average Revenue per Paying User Without Cancel...</td>\n",
       "      <td>35.02924</td>\n",
       "      <td>26.452356</td>\n",
       "      <td>85678.243854</td>\n",
       "      <td>66817.364501</td>\n",
       "      <td>-8.576885</td>\n",
       "      <td>-0.244849</td>\n",
       "      <td>None</td>\n",
       "      <td>None</td>\n",
       "    </tr>\n",
       "  </tbody>\n",
       "</table>\n",
       "</div>"
      ],
      "text/plain": [
       "                                         metric_name    mean_0     mean_1  \\\n",
       "0   Average Revenuer Per User Without Cancelllations  35.02924  26.452356   \n",
       "0                                Average Order Value   1.00000   1.000000   \n",
       "0                         Canceled Orders per Orders   1.00000   1.000000   \n",
       "0  Average Revenue per Paying User Without Cancel...  35.02924  26.452356   \n",
       "\n",
       "          var_0         var_1     delta      lift    pvalue statistic  \n",
       "0  85678.243854  66817.364501 -8.576885 -0.244849  0.357896  0.919502  \n",
       "0      0.000000      0.000000  0.000000  0.000000       NaN       NaN  \n",
       "0      0.000000      0.000000  0.000000  0.000000  0.520526  0.642535  \n",
       "0  85678.243854  66817.364501 -8.576885 -0.244849      None      None  "
      ]
     },
     "execution_count": 2,
     "metadata": {},
     "output_type": "execute_result"
    }
   ],
   "source": [
    "experiment_report"
   ]
  },
  {
   "cell_type": "code",
   "execution_count": 4,
   "metadata": {},
   "outputs": [],
   "source": [
    "metric_config=_load_yaml_preset(preset=\"todo\")"
   ]
  },
  {
   "cell_type": "code",
   "execution_count": 5,
   "metadata": {},
   "outputs": [],
   "source": [
    "df = pd.read_csv(\"data/csv/df_sample.csv\")"
   ]
  },
  {
   "cell_type": "code",
   "execution_count": 6,
   "metadata": {},
   "outputs": [],
   "source": [
    "import pandas as pd\n",
    "import numpy as np\n",
    "import abc\n",
    "import utils\n",
    "import config as cfg\n",
    "from itertools import product\n",
    "from metric_builder import Metric, CalculateMetric\n",
    "from stattests import TTestFromStats, calculate_statistics, calculate_linearization, ProportionZFromTest, UTestFromTest"
   ]
  },
  {
   "cell_type": "code",
   "execution_count": 25,
   "metadata": {},
   "outputs": [
    {
     "name": "stdout",
     "output_type": "stream",
     "text": [
      "{'name': 'Average Revenuer Per User Without Cancelllations', 'type': 'ratio', 'estimator': 't_test', 'level': 'user_pseudo_id', 'numerator': {'aggregation_field': 'revenue', 'aggregation_function': 'sum'}, 'numerator_conditions': [{'condition_field': 'pg_status', 'comparison_sign': 'not_equal', 'comparison_value': 'CANCELED'}], 'denominator': {'aggregation_field': 'user_pseudo_id', 'aggregation_function': 'count_distinct'}}\n",
      "{'name': 'Average Order Value', 'type': 'ratio', 'estimator': 't_test', 'level': 'user_pseudo_id', 'numerator': {'aggregation_field': 'order_id', 'aggregation_function': 'count_distinct', 'numerator_conditions': [{'condition_field': 'pg_status', 'comparison_sign': 'not_equal', 'comparison_value': 'CANCELED'}]}, 'denominator': {'aggregation_field': 'order_id', 'aggregation_function': 'count_distinct'}, 'denominator_conditions': [{'condition_field': 'pg_status', 'comparison_sign': 'equal', 'comparison_value': 'REALIZATION'}]}\n"
     ]
    }
   ],
   "source": [
    "n = 0\n",
    "for metric_params in metric_config:\n",
    "    print(metric_params)\n",
    "    n += 1\n",
    "    if n == 2:\n",
    "        break"
   ]
  },
  {
   "cell_type": "code",
   "execution_count": 26,
   "metadata": {},
   "outputs": [
    {
     "data": {
      "text/plain": [
       "{'name': 'Average Order Value',\n",
       " 'type': 'ratio',\n",
       " 'estimator': 't_test',\n",
       " 'level': 'user_pseudo_id',\n",
       " 'numerator': {'aggregation_field': 'order_id',\n",
       "  'aggregation_function': 'count_distinct',\n",
       "  'numerator_conditions': [{'condition_field': 'pg_status',\n",
       "    'comparison_sign': 'not_equal',\n",
       "    'comparison_value': 'CANCELED'}]},\n",
       " 'denominator': {'aggregation_field': 'order_id',\n",
       "  'aggregation_function': 'count_distinct'},\n",
       " 'denominator_conditions': [{'condition_field': 'pg_status',\n",
       "   'comparison_sign': 'equal',\n",
       "   'comparison_value': 'REALIZATION'}]}"
      ]
     },
     "execution_count": 26,
     "metadata": {},
     "output_type": "execute_result"
    }
   ],
   "source": [
    "metric_params"
   ]
  },
  {
   "cell_type": "code",
   "execution_count": 27,
   "metadata": {},
   "outputs": [],
   "source": [
    "metric_parsed = Metric(metric_params)"
   ]
  },
  {
   "cell_type": "code",
   "execution_count": 28,
   "metadata": {},
   "outputs": [],
   "source": [
    "calculated_metric = CalculateMetric(metric_parsed)(df)"
   ]
  },
  {
   "cell_type": "code",
   "execution_count": 29,
   "metadata": {},
   "outputs": [],
   "source": [
    "df_ = calculate_linearization(calculated_metric)"
   ]
  },
  {
   "cell_type": "code",
   "execution_count": 30,
   "metadata": {},
   "outputs": [],
   "source": [
    "stats = calculate_statistics(df_, metric_parsed.type)"
   ]
  },
  {
   "cell_type": "code",
   "execution_count": 33,
   "metadata": {},
   "outputs": [
    {
     "name": "stdout",
     "output_type": "stream",
     "text": [
      "t_test\n"
     ]
    }
   ],
   "source": [
    "if metric_parsed.estimator == 't_test':\n",
    "    print(metric_parsed.estimator)\n",
    "    test = TTestFromStats()\n",
    "    criteria_res = test(stats)\n",
    "elif metric_parsed.estimator  == 'prop_test':\n",
    "    test = ProportionZFromTest()\n",
    "    criteria_res = test(stats)\n",
    "    print(metric_parsed.estimator)\n",
    "elif metric_parsed.estimator  == 'mann_whitney':\n",
    "    test = UTestFromTest()\n",
    "    criteria_res = test(df_)\n",
    "    print(metric_parsed.estimator)"
   ]
  },
  {
   "cell_type": "code",
   "execution_count": 34,
   "metadata": {},
   "outputs": [],
   "source": [
    "import pandas as pd\n",
    "import numpy as np\n",
    "import abc\n",
    "import statsmodels.stats.proportion as smprop\n",
    "from scipy.stats import ttest_ind_from_stats, ttest_ind, wilcoxon"
   ]
  },
  {
   "cell_type": "code",
   "execution_count": 36,
   "metadata": {},
   "outputs": [
    {
     "data": {
      "text/plain": [
       "1.0"
      ]
     },
     "execution_count": 36,
     "metadata": {},
     "output_type": "execute_result"
    }
   ],
   "source": [
    "stats.mean_0"
   ]
  },
  {
   "cell_type": "code",
   "execution_count": 39,
   "metadata": {},
   "outputs": [
    {
     "data": {
      "text/plain": [
       "nan"
      ]
     },
     "execution_count": 39,
     "metadata": {},
     "output_type": "execute_result"
    }
   ],
   "source": [
    "pvalue"
   ]
  },
  {
   "cell_type": "code",
   "execution_count": 40,
   "metadata": {},
   "outputs": [
    {
     "data": {
      "text/plain": [
       "nan"
      ]
     },
     "execution_count": 40,
     "metadata": {},
     "output_type": "execute_result"
    }
   ],
   "source": [
    "statistic"
   ]
  },
  {
   "cell_type": "code",
   "execution_count": 41,
   "metadata": {},
   "outputs": [],
   "source": [
    "mean1=stats.mean_0,\n",
    "std1=np.sqrt(stats.var_0),\n",
    "nobs1=stats.n_0,\n",
    "mean2=stats.mean_1,\n",
    "std2=np.sqrt(stats.var_1),\n",
    "nobs2=stats.n_1"
   ]
  },
  {
   "cell_type": "code",
   "execution_count": 47,
   "metadata": {},
   "outputs": [
    {
     "data": {
      "text/plain": [
       "1754"
      ]
     },
     "execution_count": 47,
     "metadata": {},
     "output_type": "execute_result"
    }
   ],
   "source": [
    "nobs2"
   ]
  },
  {
   "cell_type": "code",
   "execution_count": 38,
   "metadata": {},
   "outputs": [],
   "source": [
    "statistic, pvalue = ttest_ind_from_stats(\n",
    "                mean1=stats.mean_0,\n",
    "                std1=np.sqrt(stats.var_0),\n",
    "                nobs1=stats.n_0,\n",
    "                mean2=stats.mean_1,\n",
    "                std2=np.sqrt(stats.var_1),\n",
    "                nobs2=stats.n_1\n",
    ")"
   ]
  },
  {
   "cell_type": "code",
   "execution_count": 23,
   "metadata": {},
   "outputs": [
    {
     "data": {
      "text/plain": [
       "0.5205255920924144"
      ]
     },
     "execution_count": 23,
     "metadata": {},
     "output_type": "execute_result"
    }
   ],
   "source": [
    "criteria_res.pvalue"
   ]
  },
  {
   "cell_type": "code",
   "execution_count": 24,
   "metadata": {},
   "outputs": [
    {
     "data": {
      "text/plain": [
       "'Canceled Orders per Orders'"
      ]
     },
     "execution_count": 24,
     "metadata": {},
     "output_type": "execute_result"
    }
   ],
   "source": [
    "metric_parsed.name"
   ]
  },
  {
   "cell_type": "code",
   "execution_count": null,
   "metadata": {},
   "outputs": [],
   "source": [
    "\n",
    "class Report:\n",
    "    def __init__(self, report):\n",
    "        self.report = report\n",
    "\n",
    "\n",
    "class BuildMetricReport:\n",
    "    def __call__(self, calculated_metric, metric_items) -> Report:\n",
    "\n",
    "\n",
    "        if metric_items.estimator == 't_test':\n",
    "            df_ = calculate_linearization(calculated_metric)\n",
    "            test = TTestFromStats()\n",
    "            stats = calculate_statistics(df_, metric_items.type)\n",
    "            criteria_res = test(stats)\n",
    "        elif metric_items.estimator  == 'prop_test':\n",
    "            stats = calculate_statistics(df, metric_items.type)\n",
    "            criteria_res = ProportionZFromTest(stats)\n",
    "        elif metric_items.estimator  == 'mann_whitney':\n",
    "            criteria_res = UTestFromTest(calculated_metric)\n",
    "\n",
    "\n",
    "        cfg.logger.info(f\"{metric_items.name}\")\n",
    "\n",
    "        report_items = pd.DataFrame({\n",
    "            \"metric_name\": metric_items.name,\n",
    "            \"mean_0\": stats.mean_0,\n",
    "            \"mean_1\": stats.mean_1,\n",
    "            \"var_0\": stats.var_0,\n",
    "            \"var_1\": stats.var_1,\n",
    "            \"delta\": stats.mean_1 - stats.mean_0,\n",
    "            \"lift\":  (stats.mean_1 - stats.mean_0) / stats.mean_0,\n",
    "            \"pvalue\": criteria_res.pvalue,\n",
    "            \"statistic\": criteria_res.statistic\n",
    "        }, index=[0])\n",
    "\n",
    "        return Report(report_items)\n",
    "\n",
    "\n",
    "def build_experiment_report(df, metric_config):\n",
    "    build_metric_report = BuildMetricReport()\n",
    "    reports = []\n",
    "\n",
    "    for metric_params in metric_config:\n",
    "        metric_parsed = Metric(metric_params)\n",
    "        calculated_metric = CalculateMetric(metric_parsed)(df)\n",
    "        metric_report = build_metric_report(calculated_metric, metric_parsed)\n",
    "        reports.append(metric_report.report)\n",
    "\n",
    "    return pd.concat(reports)\n",
    "\n"
   ]
  },
  {
   "cell_type": "code",
   "execution_count": 2,
   "metadata": {},
   "outputs": [],
   "source": [
    "_unique_variants = df[cfg.VARIANT_COL].unique()"
   ]
  },
  {
   "cell_type": "code",
   "execution_count": 3,
   "metadata": {},
   "outputs": [
    {
     "data": {
      "text/plain": [
       "array([3, 0, 1, 2])"
      ]
     },
     "execution_count": 3,
     "metadata": {},
     "output_type": "execute_result"
    }
   ],
   "source": [
    "_unique_variants"
   ]
  },
  {
   "cell_type": "code",
   "execution_count": 17,
   "metadata": {},
   "outputs": [],
   "source": [
    "metric_config=_load_yaml_preset(preset=\"todo\")"
   ]
  },
  {
   "cell_type": "code",
   "execution_count": 46,
   "metadata": {},
   "outputs": [
    {
     "data": {
      "text/plain": [
       "{'name': 'Canceled Orders per Orders',\n",
       " 'type': 'ratio',\n",
       " 'estimator': 'prop_test',\n",
       " 'level': 'user_pseudo_id',\n",
       " 'numerator': {'aggregation_field': 'order_id',\n",
       "  'aggregation_function': 'count_distinct'},\n",
       " 'numerator_conditions': [{'condition_field': 'pg_status',\n",
       "   'comparison_sign': 'equal',\n",
       "   'comparison_value': 'CANCELED'}],\n",
       " 'denominator': {'aggregation_field': 'order_id',\n",
       "  'aggregation_function': 'count_distinct'}}"
      ]
     },
     "execution_count": 46,
     "metadata": {},
     "output_type": "execute_result"
    }
   ],
   "source": [
    "metric_params"
   ]
  },
  {
   "cell_type": "code",
   "execution_count": 47,
   "metadata": {},
   "outputs": [],
   "source": [
    "metric_parsed = Metric(metric_params)"
   ]
  },
  {
   "cell_type": "code",
   "execution_count": 48,
   "metadata": {},
   "outputs": [],
   "source": [
    "calculated_metric = CalculateMetric(metric_parsed)(df)"
   ]
  },
  {
   "cell_type": "code",
   "execution_count": 49,
   "metadata": {},
   "outputs": [
    {
     "data": {
      "text/html": [
       "<div>\n",
       "<style scoped>\n",
       "    .dataframe tbody tr th:only-of-type {\n",
       "        vertical-align: middle;\n",
       "    }\n",
       "\n",
       "    .dataframe tbody tr th {\n",
       "        vertical-align: top;\n",
       "    }\n",
       "\n",
       "    .dataframe thead th {\n",
       "        text-align: right;\n",
       "    }\n",
       "</style>\n",
       "<table border=\"1\" class=\"dataframe\">\n",
       "  <thead>\n",
       "    <tr style=\"text-align: right;\">\n",
       "      <th></th>\n",
       "      <th>experiment_variant</th>\n",
       "      <th>user_pseudo_id</th>\n",
       "      <th>num</th>\n",
       "      <th>den</th>\n",
       "      <th>n</th>\n",
       "    </tr>\n",
       "  </thead>\n",
       "  <tbody>\n",
       "    <tr>\n",
       "      <th>0</th>\n",
       "      <td>0</td>\n",
       "      <td>0006C6C0573F6696C6AD1027E8C3ED1E</td>\n",
       "      <td>0</td>\n",
       "      <td>0</td>\n",
       "      <td>1</td>\n",
       "    </tr>\n",
       "    <tr>\n",
       "      <th>1</th>\n",
       "      <td>0</td>\n",
       "      <td>00343880C7A39144E5E41BD5321477FD</td>\n",
       "      <td>1</td>\n",
       "      <td>1</td>\n",
       "      <td>1</td>\n",
       "    </tr>\n",
       "    <tr>\n",
       "      <th>2</th>\n",
       "      <td>0</td>\n",
       "      <td>00430675C2ECD7AE36BF84FF63FE2C3B</td>\n",
       "      <td>0</td>\n",
       "      <td>0</td>\n",
       "      <td>1</td>\n",
       "    </tr>\n",
       "    <tr>\n",
       "      <th>3</th>\n",
       "      <td>0</td>\n",
       "      <td>00954619556C2A68D6C105D8E68A812F</td>\n",
       "      <td>0</td>\n",
       "      <td>0</td>\n",
       "      <td>1</td>\n",
       "    </tr>\n",
       "    <tr>\n",
       "      <th>4</th>\n",
       "      <td>0</td>\n",
       "      <td>00D66BE04250EDEF1BDBAAE7FBD3A0DC</td>\n",
       "      <td>0</td>\n",
       "      <td>0</td>\n",
       "      <td>1</td>\n",
       "    </tr>\n",
       "    <tr>\n",
       "      <th>...</th>\n",
       "      <td>...</td>\n",
       "      <td>...</td>\n",
       "      <td>...</td>\n",
       "      <td>...</td>\n",
       "      <td>...</td>\n",
       "    </tr>\n",
       "    <tr>\n",
       "      <th>9595</th>\n",
       "      <td>3</td>\n",
       "      <td>FF9054B7FC8D0AC2E562A4DC337683A2</td>\n",
       "      <td>0</td>\n",
       "      <td>0</td>\n",
       "      <td>1</td>\n",
       "    </tr>\n",
       "    <tr>\n",
       "      <th>9596</th>\n",
       "      <td>3</td>\n",
       "      <td>FFA5E91CDB085293CCF4244F4F08024C</td>\n",
       "      <td>0</td>\n",
       "      <td>0</td>\n",
       "      <td>1</td>\n",
       "    </tr>\n",
       "    <tr>\n",
       "      <th>9597</th>\n",
       "      <td>3</td>\n",
       "      <td>FFA820A2B0C703068CD906AAE3DA3195</td>\n",
       "      <td>0</td>\n",
       "      <td>0</td>\n",
       "      <td>1</td>\n",
       "    </tr>\n",
       "    <tr>\n",
       "      <th>9598</th>\n",
       "      <td>3</td>\n",
       "      <td>FFE6E1E1DEBA56D4953E9ED7C1174BB1</td>\n",
       "      <td>0</td>\n",
       "      <td>0</td>\n",
       "      <td>1</td>\n",
       "    </tr>\n",
       "    <tr>\n",
       "      <th>9599</th>\n",
       "      <td>3</td>\n",
       "      <td>FFFEFD125921F67C2B515C417C369AB2</td>\n",
       "      <td>0</td>\n",
       "      <td>0</td>\n",
       "      <td>1</td>\n",
       "    </tr>\n",
       "  </tbody>\n",
       "</table>\n",
       "<p>9600 rows × 5 columns</p>\n",
       "</div>"
      ],
      "text/plain": [
       "      experiment_variant                    user_pseudo_id  num  den  n\n",
       "0                      0  0006C6C0573F6696C6AD1027E8C3ED1E    0    0  1\n",
       "1                      0  00343880C7A39144E5E41BD5321477FD    1    1  1\n",
       "2                      0  00430675C2ECD7AE36BF84FF63FE2C3B    0    0  1\n",
       "3                      0  00954619556C2A68D6C105D8E68A812F    0    0  1\n",
       "4                      0  00D66BE04250EDEF1BDBAAE7FBD3A0DC    0    0  1\n",
       "...                  ...                               ...  ...  ... ..\n",
       "9595                   3  FF9054B7FC8D0AC2E562A4DC337683A2    0    0  1\n",
       "9596                   3  FFA5E91CDB085293CCF4244F4F08024C    0    0  1\n",
       "9597                   3  FFA820A2B0C703068CD906AAE3DA3195    0    0  1\n",
       "9598                   3  FFE6E1E1DEBA56D4953E9ED7C1174BB1    0    0  1\n",
       "9599                   3  FFFEFD125921F67C2B515C417C369AB2    0    0  1\n",
       "\n",
       "[9600 rows x 5 columns]"
      ]
     },
     "execution_count": 49,
     "metadata": {},
     "output_type": "execute_result"
    }
   ],
   "source": [
    "calculated_metric"
   ]
  },
  {
   "cell_type": "code",
   "execution_count": 21,
   "metadata": {},
   "outputs": [
    {
     "data": {
      "text/plain": [
       "<pandas.core.groupby.generic.DataFrameGroupBy object at 0x1414b42e0>"
      ]
     },
     "execution_count": 21,
     "metadata": {},
     "output_type": "execute_result"
    }
   ],
   "source": [
    "df.groupby([config.VARIANT_COL, metric_parsed.level]).apply(\n",
    "            lambda df: pd.Series({\n",
    "                \"num\": self.metric.numerator_aggregation_function(df[self.metric.numerator_aggregation_field]),\n",
    "                \"den\": self.metric.denominator_aggregation_function(df[self.metric.denominator_aggregation_field]),\n",
    "                \"n\": pd.Series.nunique(df[self.metric.level])\n",
    "            })"
   ]
  },
  {
   "cell_type": "code",
   "execution_count": 24,
   "metadata": {},
   "outputs": [],
   "source": [
    "df_ = calculate_linearization(calculated_metric)"
   ]
  },
  {
   "cell_type": "code",
   "execution_count": 25,
   "metadata": {},
   "outputs": [
    {
     "data": {
      "text/html": [
       "<div>\n",
       "<style scoped>\n",
       "    .dataframe tbody tr th:only-of-type {\n",
       "        vertical-align: middle;\n",
       "    }\n",
       "\n",
       "    .dataframe tbody tr th {\n",
       "        vertical-align: top;\n",
       "    }\n",
       "\n",
       "    .dataframe thead th {\n",
       "        text-align: right;\n",
       "    }\n",
       "</style>\n",
       "<table border=\"1\" class=\"dataframe\">\n",
       "  <thead>\n",
       "    <tr style=\"text-align: right;\">\n",
       "      <th></th>\n",
       "      <th>experiment_variant</th>\n",
       "      <th>user_pseudo_id</th>\n",
       "      <th>num</th>\n",
       "      <th>den</th>\n",
       "      <th>n</th>\n",
       "      <th>l_ratio</th>\n",
       "    </tr>\n",
       "  </thead>\n",
       "  <tbody>\n",
       "    <tr>\n",
       "      <th>0</th>\n",
       "      <td>0</td>\n",
       "      <td>0006C6C0573F6696C6AD1027E8C3ED1E</td>\n",
       "      <td>0.00000</td>\n",
       "      <td>1.0</td>\n",
       "      <td>1.0</td>\n",
       "      <td>0.00000</td>\n",
       "    </tr>\n",
       "    <tr>\n",
       "      <th>1</th>\n",
       "      <td>0</td>\n",
       "      <td>00343880C7A39144E5E41BD5321477FD</td>\n",
       "      <td>2297.47665</td>\n",
       "      <td>1.0</td>\n",
       "      <td>1.0</td>\n",
       "      <td>2297.47665</td>\n",
       "    </tr>\n",
       "    <tr>\n",
       "      <th>2</th>\n",
       "      <td>0</td>\n",
       "      <td>00430675C2ECD7AE36BF84FF63FE2C3B</td>\n",
       "      <td>0.00000</td>\n",
       "      <td>1.0</td>\n",
       "      <td>1.0</td>\n",
       "      <td>0.00000</td>\n",
       "    </tr>\n",
       "    <tr>\n",
       "      <th>3</th>\n",
       "      <td>0</td>\n",
       "      <td>00954619556C2A68D6C105D8E68A812F</td>\n",
       "      <td>0.00000</td>\n",
       "      <td>1.0</td>\n",
       "      <td>1.0</td>\n",
       "      <td>0.00000</td>\n",
       "    </tr>\n",
       "    <tr>\n",
       "      <th>4</th>\n",
       "      <td>0</td>\n",
       "      <td>00D66BE04250EDEF1BDBAAE7FBD3A0DC</td>\n",
       "      <td>0.00000</td>\n",
       "      <td>1.0</td>\n",
       "      <td>1.0</td>\n",
       "      <td>0.00000</td>\n",
       "    </tr>\n",
       "    <tr>\n",
       "      <th>...</th>\n",
       "      <td>...</td>\n",
       "      <td>...</td>\n",
       "      <td>...</td>\n",
       "      <td>...</td>\n",
       "      <td>...</td>\n",
       "      <td>...</td>\n",
       "    </tr>\n",
       "    <tr>\n",
       "      <th>9595</th>\n",
       "      <td>3</td>\n",
       "      <td>FF9054B7FC8D0AC2E562A4DC337683A2</td>\n",
       "      <td>0.00000</td>\n",
       "      <td>1.0</td>\n",
       "      <td>1.0</td>\n",
       "      <td>0.00000</td>\n",
       "    </tr>\n",
       "    <tr>\n",
       "      <th>9596</th>\n",
       "      <td>3</td>\n",
       "      <td>FFA5E91CDB085293CCF4244F4F08024C</td>\n",
       "      <td>0.00000</td>\n",
       "      <td>1.0</td>\n",
       "      <td>1.0</td>\n",
       "      <td>0.00000</td>\n",
       "    </tr>\n",
       "    <tr>\n",
       "      <th>9597</th>\n",
       "      <td>3</td>\n",
       "      <td>FFA820A2B0C703068CD906AAE3DA3195</td>\n",
       "      <td>0.00000</td>\n",
       "      <td>1.0</td>\n",
       "      <td>1.0</td>\n",
       "      <td>0.00000</td>\n",
       "    </tr>\n",
       "    <tr>\n",
       "      <th>9598</th>\n",
       "      <td>3</td>\n",
       "      <td>FFE6E1E1DEBA56D4953E9ED7C1174BB1</td>\n",
       "      <td>0.00000</td>\n",
       "      <td>1.0</td>\n",
       "      <td>1.0</td>\n",
       "      <td>0.00000</td>\n",
       "    </tr>\n",
       "    <tr>\n",
       "      <th>9599</th>\n",
       "      <td>3</td>\n",
       "      <td>FFFEFD125921F67C2B515C417C369AB2</td>\n",
       "      <td>0.00000</td>\n",
       "      <td>1.0</td>\n",
       "      <td>1.0</td>\n",
       "      <td>0.00000</td>\n",
       "    </tr>\n",
       "  </tbody>\n",
       "</table>\n",
       "<p>9600 rows × 6 columns</p>\n",
       "</div>"
      ],
      "text/plain": [
       "      experiment_variant                    user_pseudo_id         num  den  \\\n",
       "0                      0  0006C6C0573F6696C6AD1027E8C3ED1E     0.00000  1.0   \n",
       "1                      0  00343880C7A39144E5E41BD5321477FD  2297.47665  1.0   \n",
       "2                      0  00430675C2ECD7AE36BF84FF63FE2C3B     0.00000  1.0   \n",
       "3                      0  00954619556C2A68D6C105D8E68A812F     0.00000  1.0   \n",
       "4                      0  00D66BE04250EDEF1BDBAAE7FBD3A0DC     0.00000  1.0   \n",
       "...                  ...                               ...         ...  ...   \n",
       "9595                   3  FF9054B7FC8D0AC2E562A4DC337683A2     0.00000  1.0   \n",
       "9596                   3  FFA5E91CDB085293CCF4244F4F08024C     0.00000  1.0   \n",
       "9597                   3  FFA820A2B0C703068CD906AAE3DA3195     0.00000  1.0   \n",
       "9598                   3  FFE6E1E1DEBA56D4953E9ED7C1174BB1     0.00000  1.0   \n",
       "9599                   3  FFFEFD125921F67C2B515C417C369AB2     0.00000  1.0   \n",
       "\n",
       "        n     l_ratio  \n",
       "0     1.0     0.00000  \n",
       "1     1.0  2297.47665  \n",
       "2     1.0     0.00000  \n",
       "3     1.0     0.00000  \n",
       "4     1.0     0.00000  \n",
       "...   ...         ...  \n",
       "9595  1.0     0.00000  \n",
       "9596  1.0     0.00000  \n",
       "9597  1.0     0.00000  \n",
       "9598  1.0     0.00000  \n",
       "9599  1.0     0.00000  \n",
       "\n",
       "[9600 rows x 6 columns]"
      ]
     },
     "execution_count": 25,
     "metadata": {},
     "output_type": "execute_result"
    }
   ],
   "source": [
    "df_"
   ]
  },
  {
   "cell_type": "code",
   "execution_count": 38,
   "metadata": {},
   "outputs": [],
   "source": [
    "stats = calculate_statistics(df_, metric_params['type'])"
   ]
  },
  {
   "cell_type": "code",
   "execution_count": 39,
   "metadata": {},
   "outputs": [
    {
     "data": {
      "text/plain": [
       "<stattests.Statistics at 0x12f73c3d0>"
      ]
     },
     "execution_count": 39,
     "metadata": {},
     "output_type": "execute_result"
    }
   ],
   "source": [
    "stats"
   ]
  },
  {
   "cell_type": "code",
   "execution_count": 50,
   "metadata": {},
   "outputs": [
    {
     "name": "stdout",
     "output_type": "stream",
     "text": [
      "[2023-11-25 20:42:21] - AB Pipeline - ERROR - proportions_ztest() got an unexpected keyword argument 'count_succes'\n"
     ]
    }
   ],
   "source": [
    "if metric_params['estimator'] == 't_test':\n",
    "    test = TTestFromStats()\n",
    "elif metric_params['estimator']  == 'prop_test':\n",
    "    test = ProportionZFromTest()\n",
    "elif metric_params['estimator']  == 'mann_whitney':\n",
    "    test = UTestFromTest()\n",
    "\n",
    "criteria_res = test(stats)"
   ]
  },
  {
   "cell_type": "code",
   "execution_count": 42,
   "metadata": {},
   "outputs": [
    {
     "data": {
      "text/plain": [
       "0.3578962743580172"
      ]
     },
     "execution_count": 42,
     "metadata": {},
     "output_type": "execute_result"
    }
   ],
   "source": [
    "criteria_res.pvalue"
   ]
  },
  {
   "cell_type": "code",
   "execution_count": null,
   "metadata": {},
   "outputs": [],
   "source": []
  }
 ],
 "metadata": {
  "kernelspec": {
   "display_name": "Python 3 (ipykernel)",
   "language": "python",
   "name": "python3"
  },
  "language_info": {
   "codemirror_mode": {
    "name": "ipython",
    "version": 3
   },
   "file_extension": ".py",
   "mimetype": "text/x-python",
   "name": "python",
   "nbconvert_exporter": "python",
   "pygments_lexer": "ipython3",
   "version": "3.10.9"
  }
 },
 "nbformat": 4,
 "nbformat_minor": 2
}
